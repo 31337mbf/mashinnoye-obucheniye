{
 "cells": [
  {
   "cell_type": "markdown",
   "metadata": {
    "collapsed": true
   },
   "source": [
    "# Programming Assignment: Анализ изображений\n",
    "\n",
    "Необходимо установить tensorflow (https://www.tensorflow.org/versions/r0.10/get_started/os_setup.html#download-and-setup), scipy.\n",
    "\n",
    "Если есть опыт работы с докером, то можно воспользоваться готовым докер контейнером с тензорфлоу https://www.tensorflow.org/versions/r0.10/get_started/os_setup.html#docker-installation\n",
    "\n",
    "## Данные\n",
    "\n",
    "Скачать данные нужно тут: https://yadi.sk/d/6m_KbM4HvmLfs\n",
    "\n",
    "Данные это часть выборки (ai.stanford.edu/~jkrause/cars/car_dataset.html).\n",
    "\n",
    "* Папки с картинками:\n",
    "    * `train`\n",
    "    * `test`\n",
    "    * `results` - соответствие имя картинки - id класса.\n",
    "* `class_names.txt` - имена классов (номер строки соответствует id класса)\n",
    "\n",
    "Что делать:\n",
    "\n",
    "0) Скачайте код https://github.com/ton4eg/coursera_pa, а также веса модели по ссылке https://yadi.sk/d/9-3kXyxRvnBwh необходимо положить в ту же папку.\n",
    "\n",
    "1) Для начала нужно запустить готовую модель `vgg16` предобученную на `imagenet`. Модель обучена с помощью `caffe` и сконвертирована в формат `tensorflow` - `vgg16_weights.npz`. Скрипт иллюстрирующий применение этой модели к изображению `vgg16.py` - возвращает топ5 классов из `imagenet` и уверенность в этих классах.\n",
    "\n",
    "Загрузите метку класса и уверенность для изображения `train/00002.jpg`\n",
    "\n",
    "2) Научитесь извлекать `fc2` слой. Для этого нужно модифицировать `process_image`, чтобы вместо последнего слоя извлекались выходы `fc2`.\n",
    "\n",
    "Посчитайте `fc2` для картинки `beach.jpg`, лежащей в корне директории с кодом.\n",
    "\n",
    "3) Теперь необходимо дообучить классификатор на нашей базе. В качестве бейзлайна предлагается воспользоваться классификатором `svm` из пакета `scipy`.\n",
    "\n",
    "Нужно модифицировать функцию `get_features` и добавить возможность вычислять `fc2`. (Мы это уже сделали в `process_image`).\n",
    "\n",
    "**Сколько правильных ответов получается на валидационной выборке из папки test?**\n"
   ]
  },
  {
   "cell_type": "code",
   "execution_count": null,
   "metadata": {
    "collapsed": true
   },
   "outputs": [],
   "source": []
  }
 ],
 "metadata": {
  "kernelspec": {
   "display_name": "Python 3",
   "language": "python",
   "name": "python3"
  },
  "language_info": {
   "codemirror_mode": {
    "name": "ipython",
    "version": 3
   },
   "file_extension": ".py",
   "mimetype": "text/x-python",
   "name": "python",
   "nbconvert_exporter": "python",
   "pygments_lexer": "ipython3",
   "version": "3.5.2"
  }
 },
 "nbformat": 4,
 "nbformat_minor": 0
}
